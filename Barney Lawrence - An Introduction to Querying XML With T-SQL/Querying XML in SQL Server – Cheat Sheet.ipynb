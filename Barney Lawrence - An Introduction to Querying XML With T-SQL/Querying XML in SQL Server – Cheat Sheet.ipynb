{
    "metadata": {
        "kernelspec": {
            "name": "SQL",
            "display_name": "SQL",
            "language": "sql"
        },
        "language_info": {
            "name": "sql",
            "version": ""
        }
    },
    "nbformat_minor": 2,
    "nbformat": 4,
    "cells": [
        {
            "cell_type": "markdown",
            "source": [
                "# Querying XML In SQL Server - Cheat Sheet\n",
                "\n",
                "This notebook provides examples of common patterns used when querying XML data in SQL Server. The samples should work on any version of SQL Server from 2005 onwards and require no setup other than permissions to query in tempdb.\n",
                "\n",
                "It was created by [Barney Lawrence](https://barneylawrence.com/) the latest version can be found in the GitHub repository [BarneyLawrence/XML-Queries-In-SQL-Server](https://github.com/BarneyLawrence/XML-Queries-In-SQL-Server)\n",
                "\n",
                "For additional detail visit my blog series on the subject.\n",
                "\n",
                "- [Part 1 – Introduction](https://barneylawrence.com/2021/03/15/querying-xml-in-sql-server-part-1-introduction/)\n",
                "- [Part 2 – Simple Paths and Attributes With the Value Method](https://barneylawrence.com/2021/03/23/querying-xml-in-sql-server-part-2-simple-paths-and-attributes-with-the-value-method/)\n",
                "- [Part 3 – Handling Repeating Regions With the Nodes Method](https://barneylawrence.com/2021/03/30/querying-xml-in-sql-server-part-3-handling-repeating-regions-with-the-nodes-method/)\n",
                "- [Part 4 – Filtering With The Exist Method](https://barneylawrence.com/2021/04/07/querying-xml-in-sql-server-part-4-filtering-with-the-exist-method/)\n",
                "- [Part 5 – Introduction to the Query Method and XQuery](https://barneylawrence.com/2021/04/21/querying-xml-in-sql-server-part-5-an-introduction-to-the-query-method-and-xquery/)\n",
                "- [Part 6 – Sequencing Elements and Finding Positions](https://barneylawrence.com/2021/04/28/querying-xml-in-sql-server-part-6-sequencing-elements-and-finding-positions/)\n",
                "- [Part 7 – Creating XML](https://barneylawrence.com/2021/05/06/querying-xml-in-sql-server-part-7-creating-xml/)\n",
                "\n",
                "## Getting Started\n",
                "\n",
                "The first code section stores sample data in a temporary table, run this first as subsequent sections depend on it."
            ],
            "metadata": {
                "azdata_cell_guid": "5e03e61c-a4fd-45ab-a48f-c4e29a96e6e7"
            }
        },
        {
            "cell_type": "code",
            "source": [
                "CREATE TABLE #MyXML (MyXML XML NOT NULL);\r\n",
                " \r\n",
                "INSERT INTO #MyXML(MyXML)\r\n",
                "VALUES\r\n",
                "(\r\n",
                "'\r\n",
                "<Order Customer=\"Barney\">\r\n",
                "    <Pizza Size=\"Medium\">\r\n",
                "        <Topping>Ham</Topping>\r\n",
                "        <Topping>Pineapple</Topping>\r\n",
                "    </Pizza>\r\n",
                "    <Pizza Size=\"Large\">\r\n",
                "        <Topping>Jalapenos</Topping>\r\n",
                "        <Topping>Onions</Topping>\r\n",
                "        <Topping>Mushrooms</Topping>\r\n",
                "    </Pizza>\r\n",
                "    <IceCream Size=\"Large\">\r\n",
                "        <Topping>Pineapple</Topping>\r\n",
                "        <Topping>Chocolate</Topping>\r\n",
                "    </IceCream>\r\n",
                "</Order>\r\n",
                "'\r\n",
                ");\r\n",
                "\r\n",
                "SELECT MyXML\r\n",
                "FROM #MyXML;"
            ],
            "metadata": {
                "azdata_cell_guid": "2789ff24-eea6-4cef-b283-cff322c1a797"
            },
            "outputs": [
                {
                    "output_type": "display_data",
                    "data": {
                        "text/html": "(1 row affected)"
                    },
                    "metadata": {}
                },
                {
                    "output_type": "display_data",
                    "data": {
                        "text/html": "(1 row affected)"
                    },
                    "metadata": {}
                },
                {
                    "output_type": "display_data",
                    "data": {
                        "text/html": "Total execution time: 00:00:00.085"
                    },
                    "metadata": {}
                },
                {
                    "output_type": "execute_result",
                    "metadata": {
                        "resultSet": {
                            "id": 0,
                            "batchId": 0,
                            "rowCount": 1,
                            "complete": false,
                            "columnInfo": [
                                {
                                    "isBytes": false,
                                    "isChars": false,
                                    "isSqlVariant": false,
                                    "isUdt": false,
                                    "isXml": true,
                                    "isJson": false,
                                    "sqlDbType": 25,
                                    "isHierarchyId": false,
                                    "isSqlXmlType": true,
                                    "isUnknownType": false,
                                    "isUpdatable": false,
                                    "allowDBNull": false,
                                    "baseCatalogName": null,
                                    "baseColumnName": null,
                                    "baseSchemaName": null,
                                    "baseServerName": null,
                                    "baseTableName": null,
                                    "columnName": "MyXML",
                                    "columnOrdinal": 0,
                                    "columnSize": 2147483647,
                                    "isAliased": null,
                                    "isAutoIncrement": false,
                                    "isExpression": null,
                                    "isHidden": null,
                                    "isIdentity": false,
                                    "isKey": null,
                                    "isLong": true,
                                    "isReadOnly": false,
                                    "isUnique": false,
                                    "numericPrecision": 255,
                                    "numericScale": 255,
                                    "udtAssemblyQualifiedName": null,
                                    "dataType": "System.String, System.Private.CoreLib, Version=4.0.0.0, Culture=neutral, PublicKeyToken=7cec85d7bea7798e",
                                    "dataTypeName": "xml"
                                }
                            ],
                            "specialAction": null
                        }
                    },
                    "execution_count": 1,
                    "data": {
                        "application/vnd.dataresource+json": {
                            "schema": {
                                "fields": [
                                    {
                                        "name": "MyXML"
                                    }
                                ]
                            },
                            "data": [
                                {
                                    "0": "<Order Customer=\"Barney\"><Pizza Size=\"Medium\"><Topping>Ham</Topping><Topping>Pineapple</Topping></Pizza><Pizza Size=\"Large\"><Topping>Jalapenos</Topping><Topping>Onions</Topping><Topping>Mushrooms</Topping></Pizza><IceCream Size=\"Large\"><Topping>Pineapple</Topping><Topping>Chocolate</Topping></IceCream></Order>"
                                }
                            ]
                        },
                        "text/html": [
                            "<table>",
                            "<tr><th>MyXML</th></tr>",
                            "<tr><td>&lt;Order Customer=&quot;Barney&quot;&gt;&lt;Pizza Size=&quot;Medium&quot;&gt;&lt;Topping&gt;Ham&lt;/Topping&gt;&lt;Topping&gt;Pineapple&lt;/Topping&gt;&lt;/Pizza&gt;&lt;Pizza Size=&quot;Large&quot;&gt;&lt;Topping&gt;Jalapenos&lt;/Topping&gt;&lt;Topping&gt;Onions&lt;/Topping&gt;&lt;Topping&gt;Mushrooms&lt;/Topping&gt;&lt;/Pizza&gt;&lt;IceCream Size=&quot;Large&quot;&gt;&lt;Topping&gt;Pineapple&lt;/Topping&gt;&lt;Topping&gt;Chocolate&lt;/Topping&gt;&lt;/IceCream&gt;&lt;/Order&gt;</td></tr>",
                            "</table>"
                        ]
                    }
                }
            ],
            "execution_count": 1
        },
        {
            "cell_type": "markdown",
            "source": [
                "# Simple Value Extraction\n",
                "\n",
                "These examples show methods of specifiying a specific path through nested XML tags to reach a value."
            ],
            "metadata": {
                "azdata_cell_guid": "5fb64db4-ae5d-4cb8-8889-d084b90c4c1b"
            }
        },
        {
            "cell_type": "code",
            "source": [
                "SELECT\r\n",
                "--Get the value inside an element\r\n",
                "X.MyXML.value('(Order/Pizza/Topping)[1]','varchar(500)') AS FirstPizzaTopping,\r\n",
                "--Get an attribute on a tag\r\n",
                "X.MyXML.value('(Order/Pizza/@Size)[1]','varchar(500)') AS FirstPizzaSize,\r\n",
                "--Be specific about a path\r\n",
                "X.MyXML.value('(Order/Pizza[2]/Topping[2])[1]','varchar(500)') AS SecondPizzaSecondTopping,\r\n",
                "--Get the last element\r\n",
                "X.MyXML.value('(Order/Pizza/Topping)[last()]','varchar(500)') AS LastPizzaTopping,\r\n",
                "--Find elements regardless of parents \r\n",
                "X.MyXML.value('(//Topping)[last()]','varchar(500)') AS LastTopping,\r\n",
                "--Use a wildcard in the path\r\n",
                "X.MyXML.value('(Order/*/Topping)[last()]','varchar(500)') AS LastTopping2\r\n",
                "FROM #MyXML AS X;"
            ],
            "metadata": {
                "azdata_cell_guid": "48bd0b8f-04d9-4bd3-8d64-f1b2b7eefbff"
            },
            "outputs": [
                {
                    "output_type": "display_data",
                    "data": {
                        "text/html": "(1 row affected)"
                    },
                    "metadata": {}
                },
                {
                    "output_type": "display_data",
                    "data": {
                        "text/html": "Total execution time: 00:00:00.046"
                    },
                    "metadata": {}
                },
                {
                    "output_type": "execute_result",
                    "metadata": {
                        "resultSet": {
                            "id": 0,
                            "batchId": 0,
                            "rowCount": 1,
                            "complete": true,
                            "columnInfo": [
                                {
                                    "isBytes": false,
                                    "isChars": true,
                                    "isSqlVariant": false,
                                    "isUdt": false,
                                    "isXml": false,
                                    "isJson": false,
                                    "sqlDbType": 22,
                                    "isHierarchyId": false,
                                    "isSqlXmlType": false,
                                    "isUnknownType": false,
                                    "isUpdatable": false,
                                    "allowDBNull": true,
                                    "baseCatalogName": null,
                                    "baseColumnName": null,
                                    "baseSchemaName": null,
                                    "baseServerName": null,
                                    "baseTableName": null,
                                    "columnName": "FirstPizzaTopping",
                                    "columnOrdinal": 0,
                                    "columnSize": 500,
                                    "isAliased": null,
                                    "isAutoIncrement": false,
                                    "isExpression": null,
                                    "isHidden": null,
                                    "isIdentity": false,
                                    "isKey": null,
                                    "isLong": false,
                                    "isReadOnly": true,
                                    "isUnique": false,
                                    "numericPrecision": 255,
                                    "numericScale": 255,
                                    "udtAssemblyQualifiedName": null,
                                    "dataType": "System.String, System.Private.CoreLib, Version=4.0.0.0, Culture=neutral, PublicKeyToken=7cec85d7bea7798e",
                                    "dataTypeName": "varchar"
                                },
                                {
                                    "isBytes": false,
                                    "isChars": true,
                                    "isSqlVariant": false,
                                    "isUdt": false,
                                    "isXml": false,
                                    "isJson": false,
                                    "sqlDbType": 22,
                                    "isHierarchyId": false,
                                    "isSqlXmlType": false,
                                    "isUnknownType": false,
                                    "isUpdatable": false,
                                    "allowDBNull": true,
                                    "baseCatalogName": null,
                                    "baseColumnName": null,
                                    "baseSchemaName": null,
                                    "baseServerName": null,
                                    "baseTableName": null,
                                    "columnName": "FirstPizzaSize",
                                    "columnOrdinal": 1,
                                    "columnSize": 500,
                                    "isAliased": null,
                                    "isAutoIncrement": false,
                                    "isExpression": null,
                                    "isHidden": null,
                                    "isIdentity": false,
                                    "isKey": null,
                                    "isLong": false,
                                    "isReadOnly": true,
                                    "isUnique": false,
                                    "numericPrecision": 255,
                                    "numericScale": 255,
                                    "udtAssemblyQualifiedName": null,
                                    "dataType": "System.String, System.Private.CoreLib, Version=4.0.0.0, Culture=neutral, PublicKeyToken=7cec85d7bea7798e",
                                    "dataTypeName": "varchar"
                                },
                                {
                                    "isBytes": false,
                                    "isChars": true,
                                    "isSqlVariant": false,
                                    "isUdt": false,
                                    "isXml": false,
                                    "isJson": false,
                                    "sqlDbType": 22,
                                    "isHierarchyId": false,
                                    "isSqlXmlType": false,
                                    "isUnknownType": false,
                                    "isUpdatable": false,
                                    "allowDBNull": true,
                                    "baseCatalogName": null,
                                    "baseColumnName": null,
                                    "baseSchemaName": null,
                                    "baseServerName": null,
                                    "baseTableName": null,
                                    "columnName": "SecondPizzaSecondTopping",
                                    "columnOrdinal": 2,
                                    "columnSize": 500,
                                    "isAliased": null,
                                    "isAutoIncrement": false,
                                    "isExpression": null,
                                    "isHidden": null,
                                    "isIdentity": false,
                                    "isKey": null,
                                    "isLong": false,
                                    "isReadOnly": true,
                                    "isUnique": false,
                                    "numericPrecision": 255,
                                    "numericScale": 255,
                                    "udtAssemblyQualifiedName": null,
                                    "dataType": "System.String, System.Private.CoreLib, Version=4.0.0.0, Culture=neutral, PublicKeyToken=7cec85d7bea7798e",
                                    "dataTypeName": "varchar"
                                },
                                {
                                    "isBytes": false,
                                    "isChars": true,
                                    "isSqlVariant": false,
                                    "isUdt": false,
                                    "isXml": false,
                                    "isJson": false,
                                    "sqlDbType": 22,
                                    "isHierarchyId": false,
                                    "isSqlXmlType": false,
                                    "isUnknownType": false,
                                    "isUpdatable": false,
                                    "allowDBNull": true,
                                    "baseCatalogName": null,
                                    "baseColumnName": null,
                                    "baseSchemaName": null,
                                    "baseServerName": null,
                                    "baseTableName": null,
                                    "columnName": "LastPizzaTopping",
                                    "columnOrdinal": 3,
                                    "columnSize": 500,
                                    "isAliased": null,
                                    "isAutoIncrement": false,
                                    "isExpression": null,
                                    "isHidden": null,
                                    "isIdentity": false,
                                    "isKey": null,
                                    "isLong": false,
                                    "isReadOnly": true,
                                    "isUnique": false,
                                    "numericPrecision": 255,
                                    "numericScale": 255,
                                    "udtAssemblyQualifiedName": null,
                                    "dataType": "System.String, System.Private.CoreLib, Version=4.0.0.0, Culture=neutral, PublicKeyToken=7cec85d7bea7798e",
                                    "dataTypeName": "varchar"
                                },
                                {
                                    "isBytes": false,
                                    "isChars": true,
                                    "isSqlVariant": false,
                                    "isUdt": false,
                                    "isXml": false,
                                    "isJson": false,
                                    "sqlDbType": 22,
                                    "isHierarchyId": false,
                                    "isSqlXmlType": false,
                                    "isUnknownType": false,
                                    "isUpdatable": false,
                                    "allowDBNull": true,
                                    "baseCatalogName": null,
                                    "baseColumnName": null,
                                    "baseSchemaName": null,
                                    "baseServerName": null,
                                    "baseTableName": null,
                                    "columnName": "LastTopping",
                                    "columnOrdinal": 4,
                                    "columnSize": 500,
                                    "isAliased": null,
                                    "isAutoIncrement": false,
                                    "isExpression": null,
                                    "isHidden": null,
                                    "isIdentity": false,
                                    "isKey": null,
                                    "isLong": false,
                                    "isReadOnly": true,
                                    "isUnique": false,
                                    "numericPrecision": 255,
                                    "numericScale": 255,
                                    "udtAssemblyQualifiedName": null,
                                    "dataType": "System.String, System.Private.CoreLib, Version=4.0.0.0, Culture=neutral, PublicKeyToken=7cec85d7bea7798e",
                                    "dataTypeName": "varchar"
                                },
                                {
                                    "isBytes": false,
                                    "isChars": true,
                                    "isSqlVariant": false,
                                    "isUdt": false,
                                    "isXml": false,
                                    "isJson": false,
                                    "sqlDbType": 22,
                                    "isHierarchyId": false,
                                    "isSqlXmlType": false,
                                    "isUnknownType": false,
                                    "isUpdatable": false,
                                    "allowDBNull": true,
                                    "baseCatalogName": null,
                                    "baseColumnName": null,
                                    "baseSchemaName": null,
                                    "baseServerName": null,
                                    "baseTableName": null,
                                    "columnName": "LastTopping2",
                                    "columnOrdinal": 5,
                                    "columnSize": 500,
                                    "isAliased": null,
                                    "isAutoIncrement": false,
                                    "isExpression": null,
                                    "isHidden": null,
                                    "isIdentity": false,
                                    "isKey": null,
                                    "isLong": false,
                                    "isReadOnly": true,
                                    "isUnique": false,
                                    "numericPrecision": 255,
                                    "numericScale": 255,
                                    "udtAssemblyQualifiedName": null,
                                    "dataType": "System.String, System.Private.CoreLib, Version=4.0.0.0, Culture=neutral, PublicKeyToken=7cec85d7bea7798e",
                                    "dataTypeName": "varchar"
                                }
                            ],
                            "specialAction": {
                                "none": true,
                                "expectYukonXMLShowPlan": false
                            }
                        }
                    },
                    "execution_count": 2,
                    "data": {
                        "application/vnd.dataresource+json": {
                            "schema": {
                                "fields": [
                                    {
                                        "name": "FirstPizzaTopping"
                                    },
                                    {
                                        "name": "FirstPizzaSize"
                                    },
                                    {
                                        "name": "SecondPizzaSecondTopping"
                                    },
                                    {
                                        "name": "LastPizzaTopping"
                                    },
                                    {
                                        "name": "LastTopping"
                                    },
                                    {
                                        "name": "LastTopping2"
                                    }
                                ]
                            },
                            "data": [
                                {
                                    "0": "Ham",
                                    "1": "Medium",
                                    "2": "Onions",
                                    "3": "Mushrooms",
                                    "4": "Chocolate",
                                    "5": "Chocolate"
                                }
                            ]
                        },
                        "text/html": [
                            "<table>",
                            "<tr><th>FirstPizzaTopping</th><th>FirstPizzaSize</th><th>SecondPizzaSecondTopping</th><th>LastPizzaTopping</th><th>LastTopping</th><th>LastTopping2</th></tr>",
                            "<tr><td>Ham</td><td>Medium</td><td>Onions</td><td>Mushrooms</td><td>Chocolate</td><td>Chocolate</td></tr>",
                            "</table>"
                        ]
                    }
                }
            ],
            "execution_count": 2
        },
        {
            "cell_type": "markdown",
            "source": [
                "# Searching Values\n",
                "\n",
                "These examples show how to identify values in an XML document based on the values of other attributes in the document."
            ],
            "metadata": {
                "azdata_cell_guid": "fb40c55a-bc68-4993-bca8-9d4bbf2d4a49"
            }
        },
        {
            "cell_type": "code",
            "source": [
                "DECLARE @MyTopping varchar(50) = 'Ham'\n",
                "SELECT\n",
                "    --Choose an item based on values on the parent\n",
                "    X.MyXML.value('(Order/Pizza[@Size=\"Large\"]/Topping)[1]','varchar(500)') AS FirstLargeTopping,\n",
                "    --Choose an item based on values on the child\n",
                "    X.MyXML.value('(Order/Pizza[./Topping = \"Onions\"]/@Size)[1]','varchar(500)') AS FirstPizzaWithOnions,\n",
                "    --As above with a varible for the topping\n",
                "    X.MyXML.value('(Order/*[./Topping = sql:variable(\"@MyTopping\")]/@Size)[1]','varchar(500)') AS FirstThingWithVariableTopping,\n",
                "    --Find the name of the first tag with a chocolate topping\n",
                "    X.MyXML.value('local-name((Order/*[./Topping = \"Chocolate\"])[1])','varchar(500)') AS FirstThingWithChocolate\n",
                "FROM #MyXML AS X;"
            ],
            "metadata": {
                "azdata_cell_guid": "c2486a92-8f47-4867-b392-2f58f0b36b2e"
            },
            "outputs": [
                {
                    "output_type": "display_data",
                    "data": {
                        "text/html": "(1 row affected)"
                    },
                    "metadata": {}
                },
                {
                    "output_type": "display_data",
                    "data": {
                        "text/html": "Total execution time: 00:00:00.062"
                    },
                    "metadata": {}
                },
                {
                    "output_type": "execute_result",
                    "metadata": {
                        "resultSet": {
                            "id": 0,
                            "batchId": 0,
                            "rowCount": 1,
                            "complete": false,
                            "columnInfo": [
                                {
                                    "isBytes": false,
                                    "isChars": true,
                                    "isSqlVariant": false,
                                    "isUdt": false,
                                    "isXml": false,
                                    "isJson": false,
                                    "sqlDbType": 22,
                                    "isHierarchyId": false,
                                    "isSqlXmlType": false,
                                    "isUnknownType": false,
                                    "isUpdatable": false,
                                    "allowDBNull": true,
                                    "baseCatalogName": null,
                                    "baseColumnName": null,
                                    "baseSchemaName": null,
                                    "baseServerName": null,
                                    "baseTableName": null,
                                    "columnName": "FirstLargeTopping",
                                    "columnOrdinal": 0,
                                    "columnSize": 500,
                                    "isAliased": null,
                                    "isAutoIncrement": false,
                                    "isExpression": null,
                                    "isHidden": null,
                                    "isIdentity": false,
                                    "isKey": null,
                                    "isLong": false,
                                    "isReadOnly": true,
                                    "isUnique": false,
                                    "numericPrecision": 255,
                                    "numericScale": 255,
                                    "udtAssemblyQualifiedName": null,
                                    "dataType": "System.String, System.Private.CoreLib, Version=4.0.0.0, Culture=neutral, PublicKeyToken=7cec85d7bea7798e",
                                    "dataTypeName": "varchar"
                                },
                                {
                                    "isBytes": false,
                                    "isChars": true,
                                    "isSqlVariant": false,
                                    "isUdt": false,
                                    "isXml": false,
                                    "isJson": false,
                                    "sqlDbType": 22,
                                    "isHierarchyId": false,
                                    "isSqlXmlType": false,
                                    "isUnknownType": false,
                                    "isUpdatable": false,
                                    "allowDBNull": true,
                                    "baseCatalogName": null,
                                    "baseColumnName": null,
                                    "baseSchemaName": null,
                                    "baseServerName": null,
                                    "baseTableName": null,
                                    "columnName": "FirstPizzaWithOnions",
                                    "columnOrdinal": 1,
                                    "columnSize": 500,
                                    "isAliased": null,
                                    "isAutoIncrement": false,
                                    "isExpression": null,
                                    "isHidden": null,
                                    "isIdentity": false,
                                    "isKey": null,
                                    "isLong": false,
                                    "isReadOnly": true,
                                    "isUnique": false,
                                    "numericPrecision": 255,
                                    "numericScale": 255,
                                    "udtAssemblyQualifiedName": null,
                                    "dataType": "System.String, System.Private.CoreLib, Version=4.0.0.0, Culture=neutral, PublicKeyToken=7cec85d7bea7798e",
                                    "dataTypeName": "varchar"
                                },
                                {
                                    "isBytes": false,
                                    "isChars": true,
                                    "isSqlVariant": false,
                                    "isUdt": false,
                                    "isXml": false,
                                    "isJson": false,
                                    "sqlDbType": 22,
                                    "isHierarchyId": false,
                                    "isSqlXmlType": false,
                                    "isUnknownType": false,
                                    "isUpdatable": false,
                                    "allowDBNull": true,
                                    "baseCatalogName": null,
                                    "baseColumnName": null,
                                    "baseSchemaName": null,
                                    "baseServerName": null,
                                    "baseTableName": null,
                                    "columnName": "FirstThingWithVariableTopping",
                                    "columnOrdinal": 2,
                                    "columnSize": 500,
                                    "isAliased": null,
                                    "isAutoIncrement": false,
                                    "isExpression": null,
                                    "isHidden": null,
                                    "isIdentity": false,
                                    "isKey": null,
                                    "isLong": false,
                                    "isReadOnly": true,
                                    "isUnique": false,
                                    "numericPrecision": 255,
                                    "numericScale": 255,
                                    "udtAssemblyQualifiedName": null,
                                    "dataType": "System.String, System.Private.CoreLib, Version=4.0.0.0, Culture=neutral, PublicKeyToken=7cec85d7bea7798e",
                                    "dataTypeName": "varchar"
                                },
                                {
                                    "isBytes": false,
                                    "isChars": true,
                                    "isSqlVariant": false,
                                    "isUdt": false,
                                    "isXml": false,
                                    "isJson": false,
                                    "sqlDbType": 22,
                                    "isHierarchyId": false,
                                    "isSqlXmlType": false,
                                    "isUnknownType": false,
                                    "isUpdatable": false,
                                    "allowDBNull": true,
                                    "baseCatalogName": null,
                                    "baseColumnName": null,
                                    "baseSchemaName": null,
                                    "baseServerName": null,
                                    "baseTableName": null,
                                    "columnName": "FirstThingWithChocolate",
                                    "columnOrdinal": 3,
                                    "columnSize": 500,
                                    "isAliased": null,
                                    "isAutoIncrement": false,
                                    "isExpression": null,
                                    "isHidden": null,
                                    "isIdentity": false,
                                    "isKey": null,
                                    "isLong": false,
                                    "isReadOnly": true,
                                    "isUnique": false,
                                    "numericPrecision": 255,
                                    "numericScale": 255,
                                    "udtAssemblyQualifiedName": null,
                                    "dataType": "System.String, System.Private.CoreLib, Version=4.0.0.0, Culture=neutral, PublicKeyToken=7cec85d7bea7798e",
                                    "dataTypeName": "varchar"
                                }
                            ],
                            "specialAction": null
                        }
                    },
                    "execution_count": 3,
                    "data": {
                        "application/vnd.dataresource+json": {
                            "schema": {
                                "fields": [
                                    {
                                        "name": "FirstLargeTopping"
                                    },
                                    {
                                        "name": "FirstPizzaWithOnions"
                                    },
                                    {
                                        "name": "FirstThingWithVariableTopping"
                                    },
                                    {
                                        "name": "FirstThingWithChocolate"
                                    }
                                ]
                            },
                            "data": [
                                {
                                    "0": "Jalapenos",
                                    "1": "Large",
                                    "2": "Medium",
                                    "3": "IceCream"
                                }
                            ]
                        },
                        "text/html": [
                            "<table>",
                            "<tr><th>FirstLargeTopping</th><th>FirstPizzaWithOnions</th><th>FirstThingWithVariableTopping</th><th>FirstThingWithChocolate</th></tr>",
                            "<tr><td>Jalapenos</td><td>Large</td><td>Medium</td><td>IceCream</td></tr>",
                            "</table>"
                        ]
                    }
                }
            ],
            "execution_count": 3
        },
        {
            "cell_type": "markdown",
            "source": [
                "# Splitting XML Into Rows\n",
                "\n",
                "These next examples show how to break a single XML document into multiple rows.\n",
                "\n",
                "Examples use CROSS APPLY but OUTER APPLY can also be used, particularly where sub elements may be optional.\n",
                "\n",
                "## Calling The Nodes Method Multiple Times\n",
                "\n",
                "In this approach we split into rows at the first sub level and then apply the nodes method a second time to split at the second level.\n",
                "\n",
                "Values at both levels can be accessed directly from their respective results."
            ],
            "metadata": {
                "azdata_cell_guid": "218b1391-e133-4d91-80ef-ffa5ca87b886"
            }
        },
        {
            "cell_type": "code",
            "source": [
                "SELECT\r\n",
                "    Pizzas.PizzaXML.value('(@Size)','varchar(500)') AS PizzaSize,\r\n",
                "    Toppings.ToppingXML.value('(.)','varchar(500)') AS Topping\r\n",
                "FROM #MyXML AS X\r\n",
                "CROSS APPLY X.MyXML.nodes('Order/Pizza') AS Pizzas(PizzaXML)\r\n",
                "OUTER APPLY Pizzas.PizzaXML.nodes('Topping') AS Toppings(ToppingXML);"
            ],
            "metadata": {
                "azdata_cell_guid": "164fd498-b3df-4107-b988-434583eab5fd"
            },
            "outputs": [
                {
                    "output_type": "display_data",
                    "data": {
                        "text/html": "(5 rows affected)"
                    },
                    "metadata": {}
                },
                {
                    "output_type": "display_data",
                    "data": {
                        "text/html": "Total execution time: 00:00:00.022"
                    },
                    "metadata": {}
                },
                {
                    "output_type": "execute_result",
                    "metadata": {
                        "resultSet": {
                            "id": 0,
                            "batchId": 0,
                            "rowCount": 5,
                            "complete": true,
                            "columnInfo": [
                                {
                                    "isBytes": false,
                                    "isChars": true,
                                    "isSqlVariant": false,
                                    "isUdt": false,
                                    "isXml": false,
                                    "isJson": false,
                                    "sqlDbType": 22,
                                    "isHierarchyId": false,
                                    "isSqlXmlType": false,
                                    "isUnknownType": false,
                                    "isUpdatable": false,
                                    "allowDBNull": true,
                                    "baseCatalogName": null,
                                    "baseColumnName": null,
                                    "baseSchemaName": null,
                                    "baseServerName": null,
                                    "baseTableName": null,
                                    "columnName": "PizzaSize",
                                    "columnOrdinal": 0,
                                    "columnSize": 500,
                                    "isAliased": null,
                                    "isAutoIncrement": false,
                                    "isExpression": null,
                                    "isHidden": null,
                                    "isIdentity": false,
                                    "isKey": null,
                                    "isLong": false,
                                    "isReadOnly": true,
                                    "isUnique": false,
                                    "numericPrecision": 255,
                                    "numericScale": 255,
                                    "udtAssemblyQualifiedName": null,
                                    "dataType": "System.String, System.Private.CoreLib, Version=4.0.0.0, Culture=neutral, PublicKeyToken=7cec85d7bea7798e",
                                    "dataTypeName": "varchar"
                                },
                                {
                                    "isBytes": false,
                                    "isChars": true,
                                    "isSqlVariant": false,
                                    "isUdt": false,
                                    "isXml": false,
                                    "isJson": false,
                                    "sqlDbType": 22,
                                    "isHierarchyId": false,
                                    "isSqlXmlType": false,
                                    "isUnknownType": false,
                                    "isUpdatable": false,
                                    "allowDBNull": true,
                                    "baseCatalogName": null,
                                    "baseColumnName": null,
                                    "baseSchemaName": null,
                                    "baseServerName": null,
                                    "baseTableName": null,
                                    "columnName": "Topping",
                                    "columnOrdinal": 1,
                                    "columnSize": 500,
                                    "isAliased": null,
                                    "isAutoIncrement": false,
                                    "isExpression": null,
                                    "isHidden": null,
                                    "isIdentity": false,
                                    "isKey": null,
                                    "isLong": false,
                                    "isReadOnly": true,
                                    "isUnique": false,
                                    "numericPrecision": 255,
                                    "numericScale": 255,
                                    "udtAssemblyQualifiedName": null,
                                    "dataType": "System.String, System.Private.CoreLib, Version=4.0.0.0, Culture=neutral, PublicKeyToken=7cec85d7bea7798e",
                                    "dataTypeName": "varchar"
                                }
                            ],
                            "specialAction": {
                                "none": true,
                                "expectYukonXMLShowPlan": false
                            }
                        }
                    },
                    "execution_count": 4,
                    "data": {
                        "application/vnd.dataresource+json": {
                            "schema": {
                                "fields": [
                                    {
                                        "name": "PizzaSize"
                                    },
                                    {
                                        "name": "Topping"
                                    }
                                ]
                            },
                            "data": [
                                {
                                    "0": "Medium",
                                    "1": "Ham"
                                },
                                {
                                    "0": "Medium",
                                    "1": "Pineapple"
                                },
                                {
                                    "0": "Large",
                                    "1": "Jalapenos"
                                },
                                {
                                    "0": "Large",
                                    "1": "Onions"
                                },
                                {
                                    "0": "Large",
                                    "1": "Mushrooms"
                                }
                            ]
                        },
                        "text/html": [
                            "<table>",
                            "<tr><th>PizzaSize</th><th>Topping</th></tr>",
                            "<tr><td>Medium</td><td>Ham</td></tr>",
                            "<tr><td>Medium</td><td>Pineapple</td></tr>",
                            "<tr><td>Large</td><td>Jalapenos</td></tr>",
                            "<tr><td>Large</td><td>Onions</td></tr>",
                            "<tr><td>Large</td><td>Mushrooms</td></tr>",
                            "</table>"
                        ]
                    }
                }
            ],
            "execution_count": 4
        },
        {
            "cell_type": "markdown",
            "source": [
                "## Calling The Nodes Method Directly At The Bottom Level\n",
                "\n",
                "This version goes directly to the bottom level and then moves up using '..' to obtain values at higher levels. Because we don't specify the parent of the toppings we get both pizza and ice cream\n",
                "\n",
                "The local-name function allows us to obtain the name of the element for each row."
            ],
            "metadata": {
                "azdata_cell_guid": "caacc419-c32f-48e9-87ef-ce658c2cf40d"
            }
        },
        {
            "cell_type": "code",
            "source": [
                "SELECT\r\n",
                "    Toppings.ToppingXML.value('local-name(..)','varchar(500)') AS ItemType,\r\n",
                "    Toppings.ToppingXML.value('(../@Size)','varchar(500)') AS Size,\r\n",
                "    Toppings.ToppingXML.value('(.)','varchar(500)') AS Topping\r\n",
                "FROM #MyXML AS X\r\n",
                "CROSS APPLY X.MyXML.nodes('//Topping') AS Toppings(ToppingXML);"
            ],
            "metadata": {
                "azdata_cell_guid": "8b8ca98e-6b77-4856-99ba-6ba1eb3ee031"
            },
            "outputs": [
                {
                    "output_type": "display_data",
                    "data": {
                        "text/html": "(7 rows affected)"
                    },
                    "metadata": {}
                },
                {
                    "output_type": "display_data",
                    "data": {
                        "text/html": "Total execution time: 00:00:00.026"
                    },
                    "metadata": {}
                },
                {
                    "output_type": "execute_result",
                    "metadata": {
                        "resultSet": {
                            "id": 0,
                            "batchId": 0,
                            "rowCount": 7,
                            "complete": true,
                            "columnInfo": [
                                {
                                    "isBytes": false,
                                    "isChars": true,
                                    "isSqlVariant": false,
                                    "isUdt": false,
                                    "isXml": false,
                                    "isJson": false,
                                    "sqlDbType": 22,
                                    "isHierarchyId": false,
                                    "isSqlXmlType": false,
                                    "isUnknownType": false,
                                    "isUpdatable": false,
                                    "allowDBNull": true,
                                    "baseCatalogName": null,
                                    "baseColumnName": null,
                                    "baseSchemaName": null,
                                    "baseServerName": null,
                                    "baseTableName": null,
                                    "columnName": "ItemType",
                                    "columnOrdinal": 0,
                                    "columnSize": 500,
                                    "isAliased": null,
                                    "isAutoIncrement": false,
                                    "isExpression": null,
                                    "isHidden": null,
                                    "isIdentity": false,
                                    "isKey": null,
                                    "isLong": false,
                                    "isReadOnly": true,
                                    "isUnique": false,
                                    "numericPrecision": 255,
                                    "numericScale": 255,
                                    "udtAssemblyQualifiedName": null,
                                    "dataType": "System.String, System.Private.CoreLib, Version=4.0.0.0, Culture=neutral, PublicKeyToken=7cec85d7bea7798e",
                                    "dataTypeName": "varchar"
                                },
                                {
                                    "isBytes": false,
                                    "isChars": true,
                                    "isSqlVariant": false,
                                    "isUdt": false,
                                    "isXml": false,
                                    "isJson": false,
                                    "sqlDbType": 22,
                                    "isHierarchyId": false,
                                    "isSqlXmlType": false,
                                    "isUnknownType": false,
                                    "isUpdatable": false,
                                    "allowDBNull": true,
                                    "baseCatalogName": null,
                                    "baseColumnName": null,
                                    "baseSchemaName": null,
                                    "baseServerName": null,
                                    "baseTableName": null,
                                    "columnName": "Size",
                                    "columnOrdinal": 1,
                                    "columnSize": 500,
                                    "isAliased": null,
                                    "isAutoIncrement": false,
                                    "isExpression": null,
                                    "isHidden": null,
                                    "isIdentity": false,
                                    "isKey": null,
                                    "isLong": false,
                                    "isReadOnly": true,
                                    "isUnique": false,
                                    "numericPrecision": 255,
                                    "numericScale": 255,
                                    "udtAssemblyQualifiedName": null,
                                    "dataType": "System.String, System.Private.CoreLib, Version=4.0.0.0, Culture=neutral, PublicKeyToken=7cec85d7bea7798e",
                                    "dataTypeName": "varchar"
                                },
                                {
                                    "isBytes": false,
                                    "isChars": true,
                                    "isSqlVariant": false,
                                    "isUdt": false,
                                    "isXml": false,
                                    "isJson": false,
                                    "sqlDbType": 22,
                                    "isHierarchyId": false,
                                    "isSqlXmlType": false,
                                    "isUnknownType": false,
                                    "isUpdatable": false,
                                    "allowDBNull": true,
                                    "baseCatalogName": null,
                                    "baseColumnName": null,
                                    "baseSchemaName": null,
                                    "baseServerName": null,
                                    "baseTableName": null,
                                    "columnName": "Topping",
                                    "columnOrdinal": 2,
                                    "columnSize": 500,
                                    "isAliased": null,
                                    "isAutoIncrement": false,
                                    "isExpression": null,
                                    "isHidden": null,
                                    "isIdentity": false,
                                    "isKey": null,
                                    "isLong": false,
                                    "isReadOnly": true,
                                    "isUnique": false,
                                    "numericPrecision": 255,
                                    "numericScale": 255,
                                    "udtAssemblyQualifiedName": null,
                                    "dataType": "System.String, System.Private.CoreLib, Version=4.0.0.0, Culture=neutral, PublicKeyToken=7cec85d7bea7798e",
                                    "dataTypeName": "varchar"
                                }
                            ],
                            "specialAction": {
                                "none": true,
                                "expectYukonXMLShowPlan": false
                            }
                        }
                    },
                    "execution_count": 5,
                    "data": {
                        "application/vnd.dataresource+json": {
                            "schema": {
                                "fields": [
                                    {
                                        "name": "ItemType"
                                    },
                                    {
                                        "name": "Size"
                                    },
                                    {
                                        "name": "Topping"
                                    }
                                ]
                            },
                            "data": [
                                {
                                    "0": "Pizza",
                                    "1": "Medium",
                                    "2": "Ham"
                                },
                                {
                                    "0": "Pizza",
                                    "1": "Medium",
                                    "2": "Pineapple"
                                },
                                {
                                    "0": "Pizza",
                                    "1": "Large",
                                    "2": "Jalapenos"
                                },
                                {
                                    "0": "Pizza",
                                    "1": "Large",
                                    "2": "Onions"
                                },
                                {
                                    "0": "Pizza",
                                    "1": "Large",
                                    "2": "Mushrooms"
                                },
                                {
                                    "0": "IceCream",
                                    "1": "Large",
                                    "2": "Pineapple"
                                },
                                {
                                    "0": "IceCream",
                                    "1": "Large",
                                    "2": "Chocolate"
                                }
                            ]
                        },
                        "text/html": [
                            "<table>",
                            "<tr><th>ItemType</th><th>Size</th><th>Topping</th></tr>",
                            "<tr><td>Pizza</td><td>Medium</td><td>Ham</td></tr>",
                            "<tr><td>Pizza</td><td>Medium</td><td>Pineapple</td></tr>",
                            "<tr><td>Pizza</td><td>Large</td><td>Jalapenos</td></tr>",
                            "<tr><td>Pizza</td><td>Large</td><td>Onions</td></tr>",
                            "<tr><td>Pizza</td><td>Large</td><td>Mushrooms</td></tr>",
                            "<tr><td>IceCream</td><td>Large</td><td>Pineapple</td></tr>",
                            "<tr><td>IceCream</td><td>Large</td><td>Chocolate</td></tr>",
                            "</table>"
                        ]
                    }
                }
            ],
            "execution_count": 5
        },
        {
            "cell_type": "markdown",
            "source": [
                "# Using the Exist Method\n",
                "\n",
                "Exist checks to see if a query returns a result or a null and then returns a 1 or a 0.\n",
                "\n",
                "Here it is used to peek down to the topping level to check the types of topping used without having to use the nodes method to change the grain of the query."
            ],
            "metadata": {
                "azdata_cell_guid": "83e7f261-c06e-41f8-92cc-33d156fdbd10"
            }
        },
        {
            "cell_type": "code",
            "source": [
                "SELECT\r\n",
                "    Items.ItemXML.value('local-name(.)','varchar(500)') AS ItemType,\r\n",
                "    Items.ItemXML.value('(@Size)','varchar(500)') AS ItemSize,\r\n",
                "    Items.ItemXML.exist('.[./Topping = \"Pineapple\"]') AS IsFruity,\r\n",
                "    Items.ItemXML.exist('.[./Topping = \"Jalapenos\"]') AS IsSpicy\r\n",
                "FROM #MyXML AS X\r\n",
                "CROSS APPLY X.MyXML.nodes('Order/*') AS Items(ItemXML)"
            ],
            "metadata": {
                "azdata_cell_guid": "3d06f62d-30f4-45a6-8f90-566809af9976"
            },
            "outputs": [
                {
                    "output_type": "display_data",
                    "data": {
                        "text/html": "(3 rows affected)"
                    },
                    "metadata": {}
                },
                {
                    "output_type": "display_data",
                    "data": {
                        "text/html": "Total execution time: 00:00:00.037"
                    },
                    "metadata": {}
                },
                {
                    "output_type": "execute_result",
                    "metadata": {
                        "resultSet": {
                            "id": 0,
                            "batchId": 0,
                            "rowCount": 3,
                            "complete": true,
                            "columnInfo": [
                                {
                                    "isBytes": false,
                                    "isChars": true,
                                    "isSqlVariant": false,
                                    "isUdt": false,
                                    "isXml": false,
                                    "isJson": false,
                                    "sqlDbType": 22,
                                    "isHierarchyId": false,
                                    "isSqlXmlType": false,
                                    "isUnknownType": false,
                                    "isUpdatable": false,
                                    "allowDBNull": true,
                                    "baseCatalogName": null,
                                    "baseColumnName": null,
                                    "baseSchemaName": null,
                                    "baseServerName": null,
                                    "baseTableName": null,
                                    "columnName": "ItemType",
                                    "columnOrdinal": 0,
                                    "columnSize": 500,
                                    "isAliased": null,
                                    "isAutoIncrement": false,
                                    "isExpression": null,
                                    "isHidden": null,
                                    "isIdentity": false,
                                    "isKey": null,
                                    "isLong": false,
                                    "isReadOnly": true,
                                    "isUnique": false,
                                    "numericPrecision": 255,
                                    "numericScale": 255,
                                    "udtAssemblyQualifiedName": null,
                                    "dataType": "System.String, System.Private.CoreLib, Version=4.0.0.0, Culture=neutral, PublicKeyToken=7cec85d7bea7798e",
                                    "dataTypeName": "varchar"
                                },
                                {
                                    "isBytes": false,
                                    "isChars": true,
                                    "isSqlVariant": false,
                                    "isUdt": false,
                                    "isXml": false,
                                    "isJson": false,
                                    "sqlDbType": 22,
                                    "isHierarchyId": false,
                                    "isSqlXmlType": false,
                                    "isUnknownType": false,
                                    "isUpdatable": false,
                                    "allowDBNull": true,
                                    "baseCatalogName": null,
                                    "baseColumnName": null,
                                    "baseSchemaName": null,
                                    "baseServerName": null,
                                    "baseTableName": null,
                                    "columnName": "ItemSize",
                                    "columnOrdinal": 1,
                                    "columnSize": 500,
                                    "isAliased": null,
                                    "isAutoIncrement": false,
                                    "isExpression": null,
                                    "isHidden": null,
                                    "isIdentity": false,
                                    "isKey": null,
                                    "isLong": false,
                                    "isReadOnly": true,
                                    "isUnique": false,
                                    "numericPrecision": 255,
                                    "numericScale": 255,
                                    "udtAssemblyQualifiedName": null,
                                    "dataType": "System.String, System.Private.CoreLib, Version=4.0.0.0, Culture=neutral, PublicKeyToken=7cec85d7bea7798e",
                                    "dataTypeName": "varchar"
                                },
                                {
                                    "isBytes": false,
                                    "isChars": false,
                                    "isSqlVariant": false,
                                    "isUdt": false,
                                    "isXml": false,
                                    "isJson": false,
                                    "sqlDbType": 2,
                                    "isHierarchyId": false,
                                    "isSqlXmlType": false,
                                    "isUnknownType": false,
                                    "isUpdatable": false,
                                    "allowDBNull": true,
                                    "baseCatalogName": null,
                                    "baseColumnName": null,
                                    "baseSchemaName": null,
                                    "baseServerName": null,
                                    "baseTableName": null,
                                    "columnName": "IsFruity",
                                    "columnOrdinal": 2,
                                    "columnSize": 1,
                                    "isAliased": null,
                                    "isAutoIncrement": false,
                                    "isExpression": null,
                                    "isHidden": null,
                                    "isIdentity": false,
                                    "isKey": null,
                                    "isLong": false,
                                    "isReadOnly": true,
                                    "isUnique": false,
                                    "numericPrecision": 255,
                                    "numericScale": 255,
                                    "udtAssemblyQualifiedName": null,
                                    "dataType": "System.Boolean, System.Private.CoreLib, Version=4.0.0.0, Culture=neutral, PublicKeyToken=7cec85d7bea7798e",
                                    "dataTypeName": "bit"
                                },
                                {
                                    "isBytes": false,
                                    "isChars": false,
                                    "isSqlVariant": false,
                                    "isUdt": false,
                                    "isXml": false,
                                    "isJson": false,
                                    "sqlDbType": 2,
                                    "isHierarchyId": false,
                                    "isSqlXmlType": false,
                                    "isUnknownType": false,
                                    "isUpdatable": false,
                                    "allowDBNull": true,
                                    "baseCatalogName": null,
                                    "baseColumnName": null,
                                    "baseSchemaName": null,
                                    "baseServerName": null,
                                    "baseTableName": null,
                                    "columnName": "IsSpicy",
                                    "columnOrdinal": 3,
                                    "columnSize": 1,
                                    "isAliased": null,
                                    "isAutoIncrement": false,
                                    "isExpression": null,
                                    "isHidden": null,
                                    "isIdentity": false,
                                    "isKey": null,
                                    "isLong": false,
                                    "isReadOnly": true,
                                    "isUnique": false,
                                    "numericPrecision": 255,
                                    "numericScale": 255,
                                    "udtAssemblyQualifiedName": null,
                                    "dataType": "System.Boolean, System.Private.CoreLib, Version=4.0.0.0, Culture=neutral, PublicKeyToken=7cec85d7bea7798e",
                                    "dataTypeName": "bit"
                                }
                            ],
                            "specialAction": {
                                "none": true,
                                "expectYukonXMLShowPlan": false
                            }
                        }
                    },
                    "execution_count": 6,
                    "data": {
                        "application/vnd.dataresource+json": {
                            "schema": {
                                "fields": [
                                    {
                                        "name": "ItemType"
                                    },
                                    {
                                        "name": "ItemSize"
                                    },
                                    {
                                        "name": "IsFruity"
                                    },
                                    {
                                        "name": "IsSpicy"
                                    }
                                ]
                            },
                            "data": [
                                {
                                    "0": "Pizza",
                                    "1": "Medium",
                                    "2": "1",
                                    "3": "0"
                                },
                                {
                                    "0": "Pizza",
                                    "1": "Large",
                                    "2": "0",
                                    "3": "1"
                                },
                                {
                                    "0": "IceCream",
                                    "1": "Large",
                                    "2": "1",
                                    "3": "0"
                                }
                            ]
                        },
                        "text/html": [
                            "<table>",
                            "<tr><th>ItemType</th><th>ItemSize</th><th>IsFruity</th><th>IsSpicy</th></tr>",
                            "<tr><td>Pizza</td><td>Medium</td><td>1</td><td>0</td></tr>",
                            "<tr><td>Pizza</td><td>Large</td><td>0</td><td>1</td></tr>",
                            "<tr><td>IceCream</td><td>Large</td><td>1</td><td>0</td></tr>",
                            "</table>"
                        ]
                    }
                }
            ],
            "execution_count": 6
        },
        {
            "cell_type": "markdown",
            "source": [
                "# Using The Query Method And XQuery\n",
                "\n",
                "Query returns XML as a result. Some of these examples could also be used in the values method to return text or a number.\n",
                "\n",
                "The sequence number example works by assigning the current element to a variable and then counting the number of elements that preceed it within its parent element (effectively counting elder siblings). It will be zero based as the first element has none preceeding it."
            ],
            "metadata": {
                "azdata_cell_guid": "83c70f7c-cccc-4c62-880f-efa1dd649fe1"
            }
        },
        {
            "cell_type": "code",
            "source": [
                "SELECT\r\n",
                "\tItemXML.value('(@Size)','varchar(500)') AS ItemSize,\r\n",
                "\t--Show the current element produced by the nodes method\r\n",
                "\tItemXML.query('.') AS ToppingXML,\r\n",
                "\t--Count the number of toppings\r\n",
                "\tItemXML.query('count(./Topping)') AS ToppingCount,\r\n",
                "\t--Produce a list of toppings\r\n",
                "\tItemXML.query(\r\n",
                "\t\t'for $T in ./Topping return string($T)'\r\n",
                "\t\t) AS ToppingList,\r\n",
                "\t--Generate a sequence number\r\n",
                "\tItemXML.query(\r\n",
                "\t'let $P := . return count(../*[. << $P])'\r\n",
                "\t\t) AS ItemSequence\r\n",
                "FROM #MyXML AS X\r\n",
                "CROSS APPLY \r\n",
                "\tX.MyXML.nodes('Order/*') AS Item(ItemXML);\r\n",
                ""
            ],
            "metadata": {
                "azdata_cell_guid": "3d91b823-246c-46a2-99e9-6679201cb03f"
            },
            "outputs": [
                {
                    "output_type": "display_data",
                    "data": {
                        "text/html": "(3 rows affected)"
                    },
                    "metadata": {}
                },
                {
                    "output_type": "display_data",
                    "data": {
                        "text/html": "Total execution time: 00:00:00.016"
                    },
                    "metadata": {}
                },
                {
                    "output_type": "execute_result",
                    "metadata": {
                        "resultSet": {
                            "id": 0,
                            "batchId": 0,
                            "rowCount": 3,
                            "complete": true,
                            "columnInfo": [
                                {
                                    "isBytes": false,
                                    "isChars": true,
                                    "isSqlVariant": false,
                                    "isUdt": false,
                                    "isXml": false,
                                    "isJson": false,
                                    "sqlDbType": 22,
                                    "isHierarchyId": false,
                                    "isSqlXmlType": false,
                                    "isUnknownType": false,
                                    "isUpdatable": false,
                                    "allowDBNull": true,
                                    "baseCatalogName": null,
                                    "baseColumnName": null,
                                    "baseSchemaName": null,
                                    "baseServerName": null,
                                    "baseTableName": null,
                                    "columnName": "ItemSize",
                                    "columnOrdinal": 0,
                                    "columnSize": 500,
                                    "isAliased": null,
                                    "isAutoIncrement": false,
                                    "isExpression": null,
                                    "isHidden": null,
                                    "isIdentity": false,
                                    "isKey": null,
                                    "isLong": false,
                                    "isReadOnly": true,
                                    "isUnique": false,
                                    "numericPrecision": 255,
                                    "numericScale": 255,
                                    "udtAssemblyQualifiedName": null,
                                    "dataType": "System.String, System.Private.CoreLib, Version=4.0.0.0, Culture=neutral, PublicKeyToken=7cec85d7bea7798e",
                                    "dataTypeName": "varchar"
                                },
                                {
                                    "isBytes": false,
                                    "isChars": false,
                                    "isSqlVariant": false,
                                    "isUdt": false,
                                    "isXml": true,
                                    "isJson": false,
                                    "sqlDbType": 25,
                                    "isHierarchyId": false,
                                    "isSqlXmlType": true,
                                    "isUnknownType": false,
                                    "isUpdatable": false,
                                    "allowDBNull": true,
                                    "baseCatalogName": null,
                                    "baseColumnName": null,
                                    "baseSchemaName": null,
                                    "baseServerName": null,
                                    "baseTableName": null,
                                    "columnName": "ToppingXML",
                                    "columnOrdinal": 1,
                                    "columnSize": 2147483647,
                                    "isAliased": null,
                                    "isAutoIncrement": false,
                                    "isExpression": null,
                                    "isHidden": null,
                                    "isIdentity": false,
                                    "isKey": null,
                                    "isLong": true,
                                    "isReadOnly": true,
                                    "isUnique": false,
                                    "numericPrecision": 255,
                                    "numericScale": 255,
                                    "udtAssemblyQualifiedName": null,
                                    "dataType": "System.String, System.Private.CoreLib, Version=4.0.0.0, Culture=neutral, PublicKeyToken=7cec85d7bea7798e",
                                    "dataTypeName": "xml"
                                },
                                {
                                    "isBytes": false,
                                    "isChars": false,
                                    "isSqlVariant": false,
                                    "isUdt": false,
                                    "isXml": true,
                                    "isJson": false,
                                    "sqlDbType": 25,
                                    "isHierarchyId": false,
                                    "isSqlXmlType": true,
                                    "isUnknownType": false,
                                    "isUpdatable": false,
                                    "allowDBNull": true,
                                    "baseCatalogName": null,
                                    "baseColumnName": null,
                                    "baseSchemaName": null,
                                    "baseServerName": null,
                                    "baseTableName": null,
                                    "columnName": "ToppingCount",
                                    "columnOrdinal": 2,
                                    "columnSize": 2147483647,
                                    "isAliased": null,
                                    "isAutoIncrement": false,
                                    "isExpression": null,
                                    "isHidden": null,
                                    "isIdentity": false,
                                    "isKey": null,
                                    "isLong": true,
                                    "isReadOnly": true,
                                    "isUnique": false,
                                    "numericPrecision": 255,
                                    "numericScale": 255,
                                    "udtAssemblyQualifiedName": null,
                                    "dataType": "System.String, System.Private.CoreLib, Version=4.0.0.0, Culture=neutral, PublicKeyToken=7cec85d7bea7798e",
                                    "dataTypeName": "xml"
                                },
                                {
                                    "isBytes": false,
                                    "isChars": false,
                                    "isSqlVariant": false,
                                    "isUdt": false,
                                    "isXml": true,
                                    "isJson": false,
                                    "sqlDbType": 25,
                                    "isHierarchyId": false,
                                    "isSqlXmlType": true,
                                    "isUnknownType": false,
                                    "isUpdatable": false,
                                    "allowDBNull": true,
                                    "baseCatalogName": null,
                                    "baseColumnName": null,
                                    "baseSchemaName": null,
                                    "baseServerName": null,
                                    "baseTableName": null,
                                    "columnName": "ToppingList",
                                    "columnOrdinal": 3,
                                    "columnSize": 2147483647,
                                    "isAliased": null,
                                    "isAutoIncrement": false,
                                    "isExpression": null,
                                    "isHidden": null,
                                    "isIdentity": false,
                                    "isKey": null,
                                    "isLong": true,
                                    "isReadOnly": true,
                                    "isUnique": false,
                                    "numericPrecision": 255,
                                    "numericScale": 255,
                                    "udtAssemblyQualifiedName": null,
                                    "dataType": "System.String, System.Private.CoreLib, Version=4.0.0.0, Culture=neutral, PublicKeyToken=7cec85d7bea7798e",
                                    "dataTypeName": "xml"
                                },
                                {
                                    "isBytes": false,
                                    "isChars": false,
                                    "isSqlVariant": false,
                                    "isUdt": false,
                                    "isXml": true,
                                    "isJson": false,
                                    "sqlDbType": 25,
                                    "isHierarchyId": false,
                                    "isSqlXmlType": true,
                                    "isUnknownType": false,
                                    "isUpdatable": false,
                                    "allowDBNull": true,
                                    "baseCatalogName": null,
                                    "baseColumnName": null,
                                    "baseSchemaName": null,
                                    "baseServerName": null,
                                    "baseTableName": null,
                                    "columnName": "ItemSequence",
                                    "columnOrdinal": 4,
                                    "columnSize": 2147483647,
                                    "isAliased": null,
                                    "isAutoIncrement": false,
                                    "isExpression": null,
                                    "isHidden": null,
                                    "isIdentity": false,
                                    "isKey": null,
                                    "isLong": true,
                                    "isReadOnly": true,
                                    "isUnique": false,
                                    "numericPrecision": 255,
                                    "numericScale": 255,
                                    "udtAssemblyQualifiedName": null,
                                    "dataType": "System.String, System.Private.CoreLib, Version=4.0.0.0, Culture=neutral, PublicKeyToken=7cec85d7bea7798e",
                                    "dataTypeName": "xml"
                                }
                            ],
                            "specialAction": {
                                "none": true,
                                "expectYukonXMLShowPlan": false
                            }
                        }
                    },
                    "execution_count": 8,
                    "data": {
                        "application/vnd.dataresource+json": {
                            "schema": {
                                "fields": [
                                    {
                                        "name": "ItemSize"
                                    },
                                    {
                                        "name": "ToppingXML"
                                    },
                                    {
                                        "name": "ToppingCount"
                                    },
                                    {
                                        "name": "ToppingList"
                                    },
                                    {
                                        "name": "ItemSequence"
                                    }
                                ]
                            },
                            "data": [
                                {
                                    "0": "Medium",
                                    "1": "<Pizza Size=\"Medium\"><Topping>Ham</Topping><Topping>Pineapple</Topping></Pizza>",
                                    "2": "2",
                                    "3": "Ham Pineapple",
                                    "4": "0"
                                },
                                {
                                    "0": "Large",
                                    "1": "<Pizza Size=\"Large\"><Topping>Jalapenos</Topping><Topping>Onions</Topping><Topping>Mushrooms</Topping></Pizza>",
                                    "2": "3",
                                    "3": "Jalapenos Onions Mushrooms",
                                    "4": "1"
                                },
                                {
                                    "0": "Large",
                                    "1": "<IceCream Size=\"Large\"><Topping>Pineapple</Topping><Topping>Chocolate</Topping></IceCream>",
                                    "2": "2",
                                    "3": "Pineapple Chocolate",
                                    "4": "2"
                                }
                            ]
                        },
                        "text/html": [
                            "<table>",
                            "<tr><th>ItemSize</th><th>ToppingXML</th><th>ToppingCount</th><th>ToppingList</th><th>ItemSequence</th></tr>",
                            "<tr><td>Medium</td><td>&lt;Pizza Size=&quot;Medium&quot;&gt;&lt;Topping&gt;Ham&lt;/Topping&gt;&lt;Topping&gt;Pineapple&lt;/Topping&gt;&lt;/Pizza&gt;</td><td>2</td><td>Ham Pineapple</td><td>0</td></tr>",
                            "<tr><td>Large</td><td>&lt;Pizza Size=&quot;Large&quot;&gt;&lt;Topping&gt;Jalapenos&lt;/Topping&gt;&lt;Topping&gt;Onions&lt;/Topping&gt;&lt;Topping&gt;Mushrooms&lt;/Topping&gt;&lt;/Pizza&gt;</td><td>3</td><td>Jalapenos Onions Mushrooms</td><td>1</td></tr>",
                            "<tr><td>Large</td><td>&lt;IceCream Size=&quot;Large&quot;&gt;&lt;Topping&gt;Pineapple&lt;/Topping&gt;&lt;Topping&gt;Chocolate&lt;/Topping&gt;&lt;/IceCream&gt;</td><td>2</td><td>Pineapple Chocolate</td><td>2</td></tr>",
                            "</table>"
                        ]
                    }
                }
            ],
            "execution_count": 8
        }
    ]
}